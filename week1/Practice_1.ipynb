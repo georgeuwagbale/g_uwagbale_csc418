{
 "cells": [
  {
   "cell_type": "code",
   "execution_count": 1,
   "id": "initial_id",
   "metadata": {
    "collapsed": true,
    "ExecuteTime": {
     "end_time": "2024-03-19T20:25:05.466702Z",
     "start_time": "2024-03-19T20:25:04.633532Z"
    }
   },
   "outputs": [
    {
     "ename": "ImportError",
     "evalue": "DLL load failed while importing cv2: The specified module could not be found.",
     "output_type": "error",
     "traceback": [
      "\u001B[1;31m---------------------------------------------------------------------------\u001B[0m",
      "\u001B[1;31mImportError\u001B[0m                               Traceback (most recent call last)",
      "Cell \u001B[1;32mIn[1], line 1\u001B[0m\n\u001B[1;32m----> 1\u001B[0m \u001B[38;5;28;01mimport\u001B[39;00m \u001B[38;5;21;01mcv2\u001B[39;00m\n",
      "\u001B[1;31mImportError\u001B[0m: DLL load failed while importing cv2: The specified module could not be found."
     ]
    }
   ],
   "source": [
    "import cv2"
   ]
  },
  {
   "cell_type": "code",
   "outputs": [],
   "source": [
    "path = \"img/Model-82A1-29-BBL-MP.png\""
   ],
   "metadata": {
    "collapsed": false
   },
   "id": "fcc8a461dbb36c26"
  },
  {
   "cell_type": "code",
   "outputs": [],
   "source": [
    "img = cv2.imread(path)\n",
    "window_name = \"Image\""
   ],
   "metadata": {
    "collapsed": false
   },
   "id": "603892616592c56"
  },
  {
   "cell_type": "code",
   "outputs": [],
   "source": [
    "cv2.imshow(window_name, img)\n",
    "cv2.waitKey(0)"
   ],
   "metadata": {
    "collapsed": false
   },
   "id": "1a1ba086156ed49c",
   "execution_count": null
  },
  {
   "cell_type": "code",
   "outputs": [],
   "source": [
    "cv2.destroyAllWindows()"
   ],
   "metadata": {
    "collapsed": false
   },
   "id": "cb07b80bbbf85309"
  },
  {
   "cell_type": "code",
   "outputs": [
    {
     "ename": "error",
     "evalue": "incomplete escape \\U at position 28",
     "output_type": "error",
     "traceback": [
      "\u001B[1;31m---------------------------------------------------------------------------\u001B[0m",
      "\u001B[1;31merror\u001B[0m                                     Traceback (most recent call last)",
      "Cell \u001B[1;32mIn[2], line 1\u001B[0m\n\u001B[1;32m----> 1\u001B[0m get_ipython()\u001B[38;5;241m.\u001B[39mrun_line_magic(\u001B[38;5;124m'\u001B[39m\u001B[38;5;124mconda\u001B[39m\u001B[38;5;124m'\u001B[39m, \u001B[38;5;124m'\u001B[39m\u001B[38;5;124minstall cv2\u001B[39m\u001B[38;5;124m'\u001B[39m)\n",
      "File \u001B[1;32m~\\miniconda3\\Lib\\site-packages\\IPython\\core\\interactiveshell.py:2456\u001B[0m, in \u001B[0;36mInteractiveShell.run_line_magic\u001B[1;34m(self, magic_name, line, _stack_depth)\u001B[0m\n\u001B[0;32m   2454\u001B[0m     kwargs[\u001B[38;5;124m'\u001B[39m\u001B[38;5;124mlocal_ns\u001B[39m\u001B[38;5;124m'\u001B[39m] \u001B[38;5;241m=\u001B[39m \u001B[38;5;28mself\u001B[39m\u001B[38;5;241m.\u001B[39mget_local_scope(stack_depth)\n\u001B[0;32m   2455\u001B[0m \u001B[38;5;28;01mwith\u001B[39;00m \u001B[38;5;28mself\u001B[39m\u001B[38;5;241m.\u001B[39mbuiltin_trap:\n\u001B[1;32m-> 2456\u001B[0m     result \u001B[38;5;241m=\u001B[39m fn(\u001B[38;5;241m*\u001B[39margs, \u001B[38;5;241m*\u001B[39m\u001B[38;5;241m*\u001B[39mkwargs)\n\u001B[0;32m   2458\u001B[0m \u001B[38;5;66;03m# The code below prevents the output from being displayed\u001B[39;00m\n\u001B[0;32m   2459\u001B[0m \u001B[38;5;66;03m# when using magics with decorator @output_can_be_silenced\u001B[39;00m\n\u001B[0;32m   2460\u001B[0m \u001B[38;5;66;03m# when the last Python token in the expression is a ';'.\u001B[39;00m\n\u001B[0;32m   2461\u001B[0m \u001B[38;5;28;01mif\u001B[39;00m \u001B[38;5;28mgetattr\u001B[39m(fn, magic\u001B[38;5;241m.\u001B[39mMAGIC_OUTPUT_CAN_BE_SILENCED, \u001B[38;5;28;01mFalse\u001B[39;00m):\n",
      "File \u001B[1;32m~\\miniconda3\\Lib\\site-packages\\IPython\\core\\magics\\packaging.py:30\u001B[0m, in \u001B[0;36mis_conda_environment.<locals>.wrapper\u001B[1;34m(*args, **kwargs)\u001B[0m\n\u001B[0;32m     25\u001B[0m \u001B[38;5;28;01mif\u001B[39;00m \u001B[38;5;129;01mnot\u001B[39;00m Path(sys\u001B[38;5;241m.\u001B[39mprefix, \u001B[38;5;124m\"\u001B[39m\u001B[38;5;124mconda-meta\u001B[39m\u001B[38;5;124m\"\u001B[39m, \u001B[38;5;124m\"\u001B[39m\u001B[38;5;124mhistory\u001B[39m\u001B[38;5;124m\"\u001B[39m)\u001B[38;5;241m.\u001B[39mexists():\n\u001B[0;32m     26\u001B[0m     \u001B[38;5;28;01mraise\u001B[39;00m \u001B[38;5;167;01mValueError\u001B[39;00m(\n\u001B[0;32m     27\u001B[0m         \u001B[38;5;124m\"\u001B[39m\u001B[38;5;124mThe python kernel does not appear to be a conda environment.  \u001B[39m\u001B[38;5;124m\"\u001B[39m\n\u001B[0;32m     28\u001B[0m         \u001B[38;5;124m\"\u001B[39m\u001B[38;5;124mPlease use ``\u001B[39m\u001B[38;5;124m%\u001B[39m\u001B[38;5;124mpip install`` instead.\u001B[39m\u001B[38;5;124m\"\u001B[39m\n\u001B[0;32m     29\u001B[0m     )\n\u001B[1;32m---> 30\u001B[0m \u001B[38;5;28;01mreturn\u001B[39;00m func(\u001B[38;5;241m*\u001B[39margs, \u001B[38;5;241m*\u001B[39m\u001B[38;5;241m*\u001B[39mkwargs)\n",
      "File \u001B[1;32m~\\miniconda3\\Lib\\site-packages\\IPython\\core\\magics\\packaging.py:128\u001B[0m, in \u001B[0;36mPackagingMagics.conda\u001B[1;34m(self, line)\u001B[0m\n\u001B[0;32m    120\u001B[0m \u001B[38;5;129m@line_magic\u001B[39m\n\u001B[0;32m    121\u001B[0m \u001B[38;5;129m@is_conda_environment\u001B[39m\n\u001B[0;32m    122\u001B[0m \u001B[38;5;28;01mdef\u001B[39;00m \u001B[38;5;21mconda\u001B[39m(\u001B[38;5;28mself\u001B[39m, line):\n\u001B[0;32m    123\u001B[0m \u001B[38;5;250m    \u001B[39m\u001B[38;5;124;03m\"\"\"Run the conda package manager within the current kernel.\u001B[39;00m\n\u001B[0;32m    124\u001B[0m \n\u001B[0;32m    125\u001B[0m \u001B[38;5;124;03m    Usage:\u001B[39;00m\n\u001B[0;32m    126\u001B[0m \u001B[38;5;124;03m      %conda install [pkgs]\u001B[39;00m\n\u001B[0;32m    127\u001B[0m \u001B[38;5;124;03m    \"\"\"\u001B[39;00m\n\u001B[1;32m--> 128\u001B[0m     conda \u001B[38;5;241m=\u001B[39m _get_conda_like_executable(\u001B[38;5;124m\"\u001B[39m\u001B[38;5;124mconda\u001B[39m\u001B[38;5;124m\"\u001B[39m)\n\u001B[0;32m    129\u001B[0m     \u001B[38;5;28mself\u001B[39m\u001B[38;5;241m.\u001B[39m_run_command(conda, line)\n",
      "File \u001B[1;32m~\\miniconda3\\Lib\\site-packages\\IPython\\core\\magics\\packaging.py:53\u001B[0m, in \u001B[0;36m_get_conda_like_executable\u001B[1;34m(command)\u001B[0m\n\u001B[0;32m     50\u001B[0m \u001B[38;5;66;03m# Otherwise, attempt to extract the executable from conda history.\u001B[39;00m\n\u001B[0;32m     51\u001B[0m \u001B[38;5;66;03m# This applies in any conda environment.\u001B[39;00m\n\u001B[0;32m     52\u001B[0m history \u001B[38;5;241m=\u001B[39m Path(sys\u001B[38;5;241m.\u001B[39mprefix, \u001B[38;5;124m\"\u001B[39m\u001B[38;5;124mconda-meta\u001B[39m\u001B[38;5;124m\"\u001B[39m, \u001B[38;5;124m\"\u001B[39m\u001B[38;5;124mhistory\u001B[39m\u001B[38;5;124m\"\u001B[39m)\u001B[38;5;241m.\u001B[39mread_text(encoding\u001B[38;5;241m=\u001B[39m\u001B[38;5;124m\"\u001B[39m\u001B[38;5;124mutf-8\u001B[39m\u001B[38;5;124m\"\u001B[39m)\n\u001B[1;32m---> 53\u001B[0m match \u001B[38;5;241m=\u001B[39m re\u001B[38;5;241m.\u001B[39msearch(\n\u001B[0;32m     54\u001B[0m     \u001B[38;5;124mrf\u001B[39m\u001B[38;5;124m\"\u001B[39m\u001B[38;5;124m^#\u001B[39m\u001B[38;5;124m\\\u001B[39m\u001B[38;5;124ms*cmd:\u001B[39m\u001B[38;5;124m\\\u001B[39m\u001B[38;5;124ms*(?P<command>.*\u001B[39m\u001B[38;5;132;01m{\u001B[39;00mexecutable\u001B[38;5;132;01m}\u001B[39;00m\u001B[38;5;124m)\u001B[39m\u001B[38;5;124m\\\u001B[39m\u001B[38;5;124ms[create|install]\u001B[39m\u001B[38;5;124m\"\u001B[39m,\n\u001B[0;32m     55\u001B[0m     history,\n\u001B[0;32m     56\u001B[0m     flags\u001B[38;5;241m=\u001B[39mre\u001B[38;5;241m.\u001B[39mMULTILINE,\n\u001B[0;32m     57\u001B[0m )\n\u001B[0;32m     58\u001B[0m \u001B[38;5;28;01mif\u001B[39;00m match:\n\u001B[0;32m     59\u001B[0m     \u001B[38;5;28;01mreturn\u001B[39;00m match\u001B[38;5;241m.\u001B[39mgroupdict()[\u001B[38;5;124m\"\u001B[39m\u001B[38;5;124mcommand\u001B[39m\u001B[38;5;124m\"\u001B[39m]\n",
      "File \u001B[1;32m~\\miniconda3\\Lib\\re\\__init__.py:176\u001B[0m, in \u001B[0;36msearch\u001B[1;34m(pattern, string, flags)\u001B[0m\n\u001B[0;32m    173\u001B[0m \u001B[38;5;28;01mdef\u001B[39;00m \u001B[38;5;21msearch\u001B[39m(pattern, string, flags\u001B[38;5;241m=\u001B[39m\u001B[38;5;241m0\u001B[39m):\n\u001B[0;32m    174\u001B[0m \u001B[38;5;250m    \u001B[39m\u001B[38;5;124;03m\"\"\"Scan through string looking for a match to the pattern, returning\u001B[39;00m\n\u001B[0;32m    175\u001B[0m \u001B[38;5;124;03m    a Match object, or None if no match was found.\"\"\"\u001B[39;00m\n\u001B[1;32m--> 176\u001B[0m     \u001B[38;5;28;01mreturn\u001B[39;00m _compile(pattern, flags)\u001B[38;5;241m.\u001B[39msearch(string)\n",
      "File \u001B[1;32m~\\miniconda3\\Lib\\re\\__init__.py:294\u001B[0m, in \u001B[0;36m_compile\u001B[1;34m(pattern, flags)\u001B[0m\n\u001B[0;32m    288\u001B[0m     \u001B[38;5;28;01mimport\u001B[39;00m \u001B[38;5;21;01mwarnings\u001B[39;00m\n\u001B[0;32m    289\u001B[0m     warnings\u001B[38;5;241m.\u001B[39mwarn(\u001B[38;5;124m\"\u001B[39m\u001B[38;5;124mThe re.TEMPLATE/re.T flag is deprecated \u001B[39m\u001B[38;5;124m\"\u001B[39m\n\u001B[0;32m    290\u001B[0m               \u001B[38;5;124m\"\u001B[39m\u001B[38;5;124mas it is an undocumented flag \u001B[39m\u001B[38;5;124m\"\u001B[39m\n\u001B[0;32m    291\u001B[0m               \u001B[38;5;124m\"\u001B[39m\u001B[38;5;124mwithout an obvious purpose. \u001B[39m\u001B[38;5;124m\"\u001B[39m\n\u001B[0;32m    292\u001B[0m               \u001B[38;5;124m\"\u001B[39m\u001B[38;5;124mDon\u001B[39m\u001B[38;5;124m'\u001B[39m\u001B[38;5;124mt use it.\u001B[39m\u001B[38;5;124m\"\u001B[39m,\n\u001B[0;32m    293\u001B[0m               \u001B[38;5;167;01mDeprecationWarning\u001B[39;00m)\n\u001B[1;32m--> 294\u001B[0m p \u001B[38;5;241m=\u001B[39m _compiler\u001B[38;5;241m.\u001B[39mcompile(pattern, flags)\n\u001B[0;32m    295\u001B[0m \u001B[38;5;28;01mif\u001B[39;00m \u001B[38;5;129;01mnot\u001B[39;00m (flags \u001B[38;5;241m&\u001B[39m DEBUG):\n\u001B[0;32m    296\u001B[0m     \u001B[38;5;28;01mif\u001B[39;00m \u001B[38;5;28mlen\u001B[39m(_cache) \u001B[38;5;241m>\u001B[39m\u001B[38;5;241m=\u001B[39m _MAXCACHE:\n\u001B[0;32m    297\u001B[0m         \u001B[38;5;66;03m# Drop the oldest item\u001B[39;00m\n",
      "File \u001B[1;32m~\\miniconda3\\Lib\\re\\_compiler.py:743\u001B[0m, in \u001B[0;36mcompile\u001B[1;34m(p, flags)\u001B[0m\n\u001B[0;32m    741\u001B[0m \u001B[38;5;28;01mif\u001B[39;00m isstring(p):\n\u001B[0;32m    742\u001B[0m     pattern \u001B[38;5;241m=\u001B[39m p\n\u001B[1;32m--> 743\u001B[0m     p \u001B[38;5;241m=\u001B[39m _parser\u001B[38;5;241m.\u001B[39mparse(p, flags)\n\u001B[0;32m    744\u001B[0m \u001B[38;5;28;01melse\u001B[39;00m:\n\u001B[0;32m    745\u001B[0m     pattern \u001B[38;5;241m=\u001B[39m \u001B[38;5;28;01mNone\u001B[39;00m\n",
      "File \u001B[1;32m~\\miniconda3\\Lib\\re\\_parser.py:982\u001B[0m, in \u001B[0;36mparse\u001B[1;34m(str, flags, state)\u001B[0m\n\u001B[0;32m    979\u001B[0m state\u001B[38;5;241m.\u001B[39mflags \u001B[38;5;241m=\u001B[39m flags\n\u001B[0;32m    980\u001B[0m state\u001B[38;5;241m.\u001B[39mstr \u001B[38;5;241m=\u001B[39m \u001B[38;5;28mstr\u001B[39m\n\u001B[1;32m--> 982\u001B[0m p \u001B[38;5;241m=\u001B[39m _parse_sub(source, state, flags \u001B[38;5;241m&\u001B[39m SRE_FLAG_VERBOSE, \u001B[38;5;241m0\u001B[39m)\n\u001B[0;32m    983\u001B[0m p\u001B[38;5;241m.\u001B[39mstate\u001B[38;5;241m.\u001B[39mflags \u001B[38;5;241m=\u001B[39m fix_flags(\u001B[38;5;28mstr\u001B[39m, p\u001B[38;5;241m.\u001B[39mstate\u001B[38;5;241m.\u001B[39mflags)\n\u001B[0;32m    985\u001B[0m \u001B[38;5;28;01mif\u001B[39;00m source\u001B[38;5;241m.\u001B[39mnext \u001B[38;5;129;01mis\u001B[39;00m \u001B[38;5;129;01mnot\u001B[39;00m \u001B[38;5;28;01mNone\u001B[39;00m:\n",
      "File \u001B[1;32m~\\miniconda3\\Lib\\re\\_parser.py:457\u001B[0m, in \u001B[0;36m_parse_sub\u001B[1;34m(source, state, verbose, nested)\u001B[0m\n\u001B[0;32m    455\u001B[0m start \u001B[38;5;241m=\u001B[39m source\u001B[38;5;241m.\u001B[39mtell()\n\u001B[0;32m    456\u001B[0m \u001B[38;5;28;01mwhile\u001B[39;00m \u001B[38;5;28;01mTrue\u001B[39;00m:\n\u001B[1;32m--> 457\u001B[0m     itemsappend(_parse(source, state, verbose, nested \u001B[38;5;241m+\u001B[39m \u001B[38;5;241m1\u001B[39m,\n\u001B[0;32m    458\u001B[0m                        \u001B[38;5;129;01mnot\u001B[39;00m nested \u001B[38;5;129;01mand\u001B[39;00m \u001B[38;5;129;01mnot\u001B[39;00m items))\n\u001B[0;32m    459\u001B[0m     \u001B[38;5;28;01mif\u001B[39;00m \u001B[38;5;129;01mnot\u001B[39;00m sourcematch(\u001B[38;5;124m\"\u001B[39m\u001B[38;5;124m|\u001B[39m\u001B[38;5;124m\"\u001B[39m):\n\u001B[0;32m    460\u001B[0m         \u001B[38;5;28;01mbreak\u001B[39;00m\n",
      "File \u001B[1;32m~\\miniconda3\\Lib\\re\\_parser.py:865\u001B[0m, in \u001B[0;36m_parse\u001B[1;34m(source, state, verbose, nested, first)\u001B[0m\n\u001B[0;32m    862\u001B[0m     group \u001B[38;5;241m=\u001B[39m \u001B[38;5;28;01mNone\u001B[39;00m\n\u001B[0;32m    863\u001B[0m sub_verbose \u001B[38;5;241m=\u001B[39m ((verbose \u001B[38;5;129;01mor\u001B[39;00m (add_flags \u001B[38;5;241m&\u001B[39m SRE_FLAG_VERBOSE)) \u001B[38;5;129;01mand\u001B[39;00m\n\u001B[0;32m    864\u001B[0m                \u001B[38;5;129;01mnot\u001B[39;00m (del_flags \u001B[38;5;241m&\u001B[39m SRE_FLAG_VERBOSE))\n\u001B[1;32m--> 865\u001B[0m p \u001B[38;5;241m=\u001B[39m _parse_sub(source, state, sub_verbose, nested \u001B[38;5;241m+\u001B[39m \u001B[38;5;241m1\u001B[39m)\n\u001B[0;32m    866\u001B[0m \u001B[38;5;28;01mif\u001B[39;00m \u001B[38;5;129;01mnot\u001B[39;00m source\u001B[38;5;241m.\u001B[39mmatch(\u001B[38;5;124m\"\u001B[39m\u001B[38;5;124m)\u001B[39m\u001B[38;5;124m\"\u001B[39m):\n\u001B[0;32m    867\u001B[0m     \u001B[38;5;28;01mraise\u001B[39;00m source\u001B[38;5;241m.\u001B[39merror(\u001B[38;5;124m\"\u001B[39m\u001B[38;5;124mmissing ), unterminated subpattern\u001B[39m\u001B[38;5;124m\"\u001B[39m,\n\u001B[0;32m    868\u001B[0m                        source\u001B[38;5;241m.\u001B[39mtell() \u001B[38;5;241m-\u001B[39m start)\n",
      "File \u001B[1;32m~\\miniconda3\\Lib\\re\\_parser.py:457\u001B[0m, in \u001B[0;36m_parse_sub\u001B[1;34m(source, state, verbose, nested)\u001B[0m\n\u001B[0;32m    455\u001B[0m start \u001B[38;5;241m=\u001B[39m source\u001B[38;5;241m.\u001B[39mtell()\n\u001B[0;32m    456\u001B[0m \u001B[38;5;28;01mwhile\u001B[39;00m \u001B[38;5;28;01mTrue\u001B[39;00m:\n\u001B[1;32m--> 457\u001B[0m     itemsappend(_parse(source, state, verbose, nested \u001B[38;5;241m+\u001B[39m \u001B[38;5;241m1\u001B[39m,\n\u001B[0;32m    458\u001B[0m                        \u001B[38;5;129;01mnot\u001B[39;00m nested \u001B[38;5;129;01mand\u001B[39;00m \u001B[38;5;129;01mnot\u001B[39;00m items))\n\u001B[0;32m    459\u001B[0m     \u001B[38;5;28;01mif\u001B[39;00m \u001B[38;5;129;01mnot\u001B[39;00m sourcematch(\u001B[38;5;124m\"\u001B[39m\u001B[38;5;124m|\u001B[39m\u001B[38;5;124m\"\u001B[39m):\n\u001B[0;32m    460\u001B[0m         \u001B[38;5;28;01mbreak\u001B[39;00m\n",
      "File \u001B[1;32m~\\miniconda3\\Lib\\re\\_parser.py:541\u001B[0m, in \u001B[0;36m_parse\u001B[1;34m(source, state, verbose, nested, first)\u001B[0m\n\u001B[0;32m    538\u001B[0m         \u001B[38;5;28;01mcontinue\u001B[39;00m\n\u001B[0;32m    540\u001B[0m \u001B[38;5;28;01mif\u001B[39;00m this[\u001B[38;5;241m0\u001B[39m] \u001B[38;5;241m==\u001B[39m \u001B[38;5;124m\"\u001B[39m\u001B[38;5;130;01m\\\\\u001B[39;00m\u001B[38;5;124m\"\u001B[39m:\n\u001B[1;32m--> 541\u001B[0m     code \u001B[38;5;241m=\u001B[39m _escape(source, this, state)\n\u001B[0;32m    542\u001B[0m     subpatternappend(code)\n\u001B[0;32m    544\u001B[0m \u001B[38;5;28;01melif\u001B[39;00m this \u001B[38;5;129;01mnot\u001B[39;00m \u001B[38;5;129;01min\u001B[39;00m SPECIAL_CHARS:\n",
      "File \u001B[1;32m~\\miniconda3\\Lib\\re\\_parser.py:395\u001B[0m, in \u001B[0;36m_escape\u001B[1;34m(source, escape, state)\u001B[0m\n\u001B[0;32m    393\u001B[0m escape \u001B[38;5;241m+\u001B[39m\u001B[38;5;241m=\u001B[39m source\u001B[38;5;241m.\u001B[39mgetwhile(\u001B[38;5;241m8\u001B[39m, HEXDIGITS)\n\u001B[0;32m    394\u001B[0m \u001B[38;5;28;01mif\u001B[39;00m \u001B[38;5;28mlen\u001B[39m(escape) \u001B[38;5;241m!=\u001B[39m \u001B[38;5;241m10\u001B[39m:\n\u001B[1;32m--> 395\u001B[0m     \u001B[38;5;28;01mraise\u001B[39;00m source\u001B[38;5;241m.\u001B[39merror(\u001B[38;5;124m\"\u001B[39m\u001B[38;5;124mincomplete escape \u001B[39m\u001B[38;5;132;01m%s\u001B[39;00m\u001B[38;5;124m\"\u001B[39m \u001B[38;5;241m%\u001B[39m escape, \u001B[38;5;28mlen\u001B[39m(escape))\n\u001B[0;32m    396\u001B[0m c \u001B[38;5;241m=\u001B[39m \u001B[38;5;28mint\u001B[39m(escape[\u001B[38;5;241m2\u001B[39m:], \u001B[38;5;241m16\u001B[39m)\n\u001B[0;32m    397\u001B[0m \u001B[38;5;28mchr\u001B[39m(c) \u001B[38;5;66;03m# raise ValueError for invalid code\u001B[39;00m\n",
      "\u001B[1;31merror\u001B[0m: incomplete escape \\U at position 28"
     ]
    }
   ],
   "source": [],
   "metadata": {
    "collapsed": false,
    "ExecuteTime": {
     "end_time": "2024-03-19T20:25:47.076003Z",
     "start_time": "2024-03-19T20:25:45.932687Z"
    }
   },
   "id": "5d0fcda53e1e9408",
   "execution_count": 2
  }
 ],
 "metadata": {
  "kernelspec": {
   "display_name": "Python 3",
   "language": "python",
   "name": "python3"
  },
  "language_info": {
   "codemirror_mode": {
    "name": "ipython",
    "version": 2
   },
   "file_extension": ".py",
   "mimetype": "text/x-python",
   "name": "python",
   "nbconvert_exporter": "python",
   "pygments_lexer": "ipython2",
   "version": "2.7.6"
  }
 },
 "nbformat": 4,
 "nbformat_minor": 5
}
